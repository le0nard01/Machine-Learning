{
 "cells": [
  {
   "cell_type": "code",
   "execution_count": null,
   "metadata": {},
   "outputs": [],
   "source": [
    "# - - - - - - - - - - - - - - - - - - - - - - - - - - - - - - - - - - - - - - - |\n",
    "# Author: Leonardo Oste\n",
    "# WebSite: oste.com.br\n",
    "# Ln: https://www.linkedin.com/in/leonardooste/\n",
    "# Date: Feb/05/2024\n",
    "# Python Version: 3.12.1\n",
    "# MacBook Pro - M1 Max - 32 GB - macOS Sonoma 14.3\n",
    "# Feel free to use the code for any purpose and reach me with any questions.   \n",
    "# - - - - - - - - - - - - - - - - - - - - - - - - - - - - - - - - - - - - - - - |"
   ]
  },
  {
   "cell_type": "markdown",
   "metadata": {},
   "source": [
    "## Forecasting machine CPU Usage using Prophet Algorithm\n",
    "#### Code Structure\n",
    "This code is segment in the principals steps to test, train and predict. It isn't sequencial, the code uses the following structure:\n",
    "1. Reading and formatting CSV data file.\n",
    "2. Plot the raw Data and plot the days as lines. (not necessary)\n",
    "3. HyperTunning, testing a dictionary of parameters manually inputed to get the check the accuracy based on RMSE.\n",
    "4. Fit and Predict using the HyperTunning best parameters,\n",
    "5. Test it again and plot the RMSE result chart.\n",
    "6. Plot the entire Data and Forecasting\n",
    "\n",
    "##### 1. Reading the data\n",
    "Basically read an pre-formatted data and change the columns to the Prophet format\n",
    "##### 2. Plot the raw Data\n",
    "The Time data is using an frequency of 30 seconds per data, and a Day have 2880 ticks (24h * 60minutos * 2 (60s/30s)).\n",
    "##### 3. HyperTunning\n",
    "This code is segmented in 3 Steps, the first one is a dict with the parameters manually inputed by you to test it, currently I'm testing only add_seasonality and the Prophet Core Params. The second segment will test all the parameters possibilities, testing it and storing the RMSE's result. At final step, just get the best parameters based on best RMSE.\n",
    "##### 4. Predicting\n",
    "Use the HyperTunning best parameters and fit four days in the model, after it forecasting the next day(s).\n",
    "##### 5. RMSE result chart\n",
    "Plot the RMSE chart based on best parameters.\n",
    "##### 6. Ploting all together\n",
    "Plot the entire data and the Model Forecasting based."
   ]
  },
  {
   "cell_type": "code",
   "execution_count": null,
   "metadata": {},
   "outputs": [],
   "source": [
    "# - - -\n",
    "# Read the CSV Data file and adjust the columns names/type to Prophet. \n",
    "# - - -\n",
    "\n",
    "\n",
    "import warnings # disable warnings\n",
    "warnings.filterwarnings(\"ignore\")\n",
    "\n",
    "import pandas as pd \n",
    "from prophet import Prophet\n",
    "import matplotlib.pyplot as plt \n",
    "\n",
    "df = pd.read_csv('../Data/Synthetic_CPU_Usage_Week.csv')\n",
    "df = df.rename(columns={'cpu':'y'})\n",
    "df = df.rename(columns={'time':'ds'})\n",
    "df['ds'] = pd.to_datetime(df['ds'])\n"
   ]
  },
  {
   "cell_type": "code",
   "execution_count": null,
   "metadata": {},
   "outputs": [],
   "source": [
    "# - - -\n",
    "# Plot the DataFrame and vertical lines to segment the days.\n",
    "# - - -\n",
    "\n",
    "\n",
    "import matplotlib.dates as mdates\n",
    "\n",
    "fig = plt.figure(figsize=(40, 6), dpi=100)\n",
    "plt.xticks(rotation=45, ha='right')\n",
    "plt.gca().xaxis.set_major_formatter(mdates.DateFormatter('%d %H'))\n",
    "plt.gca().xaxis.set_major_locator(mdates.HourLocator(interval=1))\n",
    "plt.axvline(df['ds'].iloc[2880], color='red', linestyle='--', alpha=0.5)\n",
    "plt.axvline(df['ds'].iloc[2880*2], color='red', linestyle='--', alpha=0.5)\n",
    "plt.axvline(df['ds'].iloc[2880*3], color='red', linestyle='--', alpha=0.5)\n",
    "plt.axvline(df['ds'].iloc[2880*4], color='red', linestyle='--', alpha=0.5)\n",
    "\n",
    "plt.plot(df['ds'],df['y'],color='b')\n",
    "plt.show()"
   ]
  },
  {
   "cell_type": "markdown",
   "metadata": {},
   "source": [
    "<img src='../Images/mltimeseries_prophet_image_1.png'>"
   ]
  },
  {
   "cell_type": "code",
   "execution_count": null,
   "metadata": {},
   "outputs": [],
   "source": [
    "# - - -\n",
    "# HyperTunning to test multiples params and check RMSE\n",
    "# - - -\n",
    "\n",
    "\n",
    "import itertools\n",
    "import pandas as pd\n",
    "from prophet.diagnostics import cross_validation\n",
    "from prophet.diagnostics import performance_metrics\n",
    "\n",
    "# Params to test\n",
    "_params_prohet = {  \n",
    "    'changepoint_prior_scale': [0.001]\n",
    "}\n",
    "\n",
    "_params_seasonality = {  \n",
    "    'name': ['daily'],\n",
    "    'prior_scale': [5,10,15],\n",
    "    'fourier_order': [13,15,20,30],\n",
    "    'mode': ['additive'],\n",
    "    'period': [1],\n",
    "}\n",
    "\n",
    "# Treat the params into an dict\n",
    "all_params_prophet = [dict(zip(_params_prohet.keys(), v)) for v in itertools.product(*_params_prohet.values())]\n",
    "all_params_seasonality = [dict(zip(_params_seasonality.keys(), v)) for v in itertools.product(*_params_seasonality.values())]\n",
    "rmses = []  \n",
    "best_rmse = float('inf')\n",
    "best_params_prophet = None\n",
    "best_params_seasonality = None\n",
    "\n",
    "# Test it recursively\n",
    "for params_prophet in all_params_prophet:\n",
    "    for params_seasonality in all_params_seasonality:\n",
    "        m = Prophet(**params_prophet) # Testing the params for Prophet\n",
    "        m.add_seasonality(**params_seasonality) # Testing the params for Seasonality\n",
    "        m.fit(df)\n",
    "\n",
    "        df_cv = cross_validation(m, initial='2 days', period='30 minutes', horizon = '2 hours',parallel=\"processes\")\n",
    "\n",
    "        df_p = performance_metrics(df_cv, rolling_window=1)\n",
    "        rmse = df_p['rmse'].values[0] # type: ignore\n",
    "        rmses.append(rmse) \n",
    "\n",
    "        # Find best params\n",
    "        if rmse < best_rmse:\n",
    "            best_rmse = rmse\n",
    "            best_params_prophet = params_prophet\n",
    "            best_params_seasonality = params_seasonality\n",
    "\n",
    "# Get the best params\n",
    "tuning_results = pd.DataFrame(list(itertools.product(all_params_prophet, all_params_seasonality)))\n",
    "tuning_results.columns = ['params_prophet', 'params_seasonality']\n",
    "tuning_results['rmse'] = rmses\n",
    "\n",
    "best_row = tuning_results.loc[tuning_results['rmse'].idxmin()]\n",
    "print(\"Best params_prophet:\", best_row['params_prophet'])\n",
    "print(\"Best params_seasonality:\", best_row['params_seasonality'])\n",
    "print(\"Best RMSE:\", best_row['rmse'])"
   ]
  },
  {
   "cell_type": "code",
   "execution_count": null,
   "metadata": {},
   "outputs": [],
   "source": [
    "# - - -\n",
    "# Fit and Predict using the parameters tested in HyperTunning\n",
    "# - - -\n",
    "\n",
    "\n",
    "casting = (2880*1)\n",
    "m = Prophet(**best_row['params_prophet'])\n",
    "m.add_seasonality(**best_row['params_seasonality'])\n",
    "model = m.fit(df[:2880*4])\n",
    "future = m.make_future_dataframe(periods=casting,freq='30s')\n",
    "forecast = m.predict(future,)"
   ]
  },
  {
   "cell_type": "code",
   "execution_count": null,
   "metadata": {},
   "outputs": [],
   "source": [
    "# - - -\n",
    "# CrossValidation and Plot RMSE to verify the model accuracy\n",
    "# - - -\n",
    "\n",
    "\n",
    "from prophet.plot import plot_cross_validation_metric\n",
    "\n",
    "df_cv = cross_validation(m, initial='2 days', period='30 minutes', horizon = '2 hours',parallel=\"processes\")\n",
    "df_p = performance_metrics(df_cv)\n",
    "\n",
    "fig = plot_cross_validation_metric(df_cv, metric='rmse',rolling_window=0.05)"
   ]
  },
  {
   "cell_type": "markdown",
   "metadata": {},
   "source": [
    "<img src='../Images/mltimeseries_prophet_image_2.png' width='500'>"
   ]
  },
  {
   "cell_type": "code",
   "execution_count": null,
   "metadata": {},
   "outputs": [],
   "source": [
    "# - - -\n",
    "# Plot entire data and the predictions\n",
    "# - - -\n",
    "\n",
    "\n",
    "import matplotlib.pyplot as plt \n",
    "import matplotlib.dates\n",
    "\n",
    "period = 2880 * 4 # 2880 = 30s freq in 24h\n",
    "\n",
    "# Adjust the Chart size and Xaxis format\n",
    "plt.figure(figsize=(50, 6), dpi=200)\n",
    "plt.gca().xaxis.set_major_formatter(mdates.DateFormatter('%d %H'))\n",
    "plt.gca().xaxis.set_major_locator(mdates.HourLocator(interval=1))\n",
    "plt.xticks(rotation=45, ha='right')\n",
    "\n",
    "plt.plot(df['ds'],df['y'])\n",
    "plt.axvline(df['ds'].iloc[period], color='red', linestyle='-', alpha=0.5)\n",
    "\n",
    "plt.plot(forecast['ds'][period:],forecast['yhat_lower'][period:], color=\"r\")\n",
    "plt.plot(forecast['ds'][period:],forecast['yhat_upper'][period:], color=\"r\")\n",
    "plt.plot(forecast['ds'][period:],forecast['yhat'][period:], color=\"r\")\n",
    "\n",
    "plt.show()"
   ]
  },
  {
   "cell_type": "markdown",
   "metadata": {},
   "source": [
    "<img src='../Images/mltimeseries_prophet_image_3.png'>"
   ]
  }
 ],
 "metadata": {
  "kernelspec": {
   "display_name": "Python 3",
   "language": "python",
   "name": "python3"
  },
  "language_info": {
   "codemirror_mode": {
    "name": "ipython",
    "version": 3
   },
   "file_extension": ".py",
   "mimetype": "text/x-python",
   "name": "python",
   "nbconvert_exporter": "python",
   "pygments_lexer": "ipython3",
   "version": "3.12.1"
  }
 },
 "nbformat": 4,
 "nbformat_minor": 2
}
